{
 "cells": [
  {
   "cell_type": "markdown",
   "metadata": {
    "collapsed": true
   },
   "source": [
    "# Assignments for the Machine Learning Session\n",
    "## Epoch onboarding 2023"
   ]
  },
  {
   "cell_type": "code",
   "execution_count": null,
   "metadata": {},
   "outputs": [],
   "source": [
    "import numpy as np\n",
    "import matplotlib.pyplot as plt\n",
    "import pandas as pd\n",
    "import random\n",
    "import time\n",
    "import xgboost as xgb\n",
    "from xgboost import cv\n",
    "from sklearn.model_selection import KFold\n",
    "from sklearn.model_selection import cross_val_score\n",
    "\n",
    "np.random.seed(0)\n",
    "torch.manual_seed(0)\n",
    "random.seed(0)\n",
    "\n",
    "import warnings\n",
    "warnings.filterwarnings(\"ignore\")"
   ]
  },
  {
   "cell_type": "markdown",
   "metadata": {},
   "source": [
    "## Assignment 1: Preprocessing"
   ]
  },
  {
   "cell_type": "code",
   "execution_count": null,
   "metadata": {},
   "outputs": [],
   "source": [
    "# Load data\n",
    "df_bikes = pd.read_csv(\"data/bike_rental_data.csv\").drop(columns=[\"Unnamed: 0\", \"instant\", \"year\", \"date\", \"season\", \"month\", \"weekday\", \"weather\", \"Subscribed\", \"Non-subscribed\"], inplace=False)\n",
    "df_bikes.sample(frac=1)\n",
    "df_bikes = df_bikes[:2000]\n",
    "\n",
    "labels, df = np.expand_dims(np.array(df_bikes[\"Total\"]), axis=-1), df_bikes.drop(columns=[\"Total\"], inplace=False)\n",
    "df.head()"
   ]
  },
  {
   "cell_type": "code",
   "execution_count": null,
   "metadata": {},
   "outputs": [],
   "source": [
    "\"\"\"\n",
    "Assignment 1:\n",
    "Apply one preprocessing step to the dataframe above to obtain the highest possible score\n",
    "\"\"\"\n",
    "\n",
    "df = df # Change so your preprocessing step is applied\n",
    "\n",
    "X = df.to_numpy()\n",
    "y = labels.copy()\n",
    "df.head()"
   ]
  },
  {
   "cell_type": "code",
   "execution_count": null,
   "metadata": {},
   "outputs": [],
   "source": [
    "from sklearn.model_selection import cross_val_score\n",
    "from sklearn.svm import SVR\n",
    "\n",
    "# Perform cross validaton with 5 folds\n",
    "model = SVR()\n",
    "cv_score = np.mean(cross_val_score(model, X, y, cv=5, scoring=\"neg_mean_absolute_error\"))\n",
    "\n",
    "print(f\"Mean Squared Error of model: {abs(cv_score)}\")"
   ]
  },
  {
   "cell_type": "markdown",
   "metadata": {},
   "source": [
    "## Assignment 2: Feature Engineering"
   ]
  },
  {
   "cell_type": "code",
   "execution_count": null,
   "metadata": {},
   "outputs": [],
   "source": [
    "# Do not change this code\n",
    "df = pd.read_csv(\"data/wk.csv\", encoding='cp1252')\n",
    "labels = df[\"Time to fill\"]\n",
    "df = pd.DataFrame.from_dict({\"Job Description\": df[\"Job Description\"]})"
   ]
  },
  {
   "cell_type": "code",
   "execution_count": null,
   "metadata": {},
   "outputs": [],
   "source": [
    "\"\"\"\n",
    "Assignment 2:\n",
    "You have 20 minutes to engineer features. Make sure the score in the cell below gets as low as possible.\n",
    "Make sure the features are numerical\n",
    "\n",
    "Example: Description length\n",
    "\"\"\"\n",
    "# Example\n",
    "df[\"length\"] = [len(x) for x in df[\"Job Description\"]]\n",
    "\n",
    "df.head()"
   ]
  },
  {
   "cell_type": "code",
   "execution_count": null,
   "metadata": {},
   "outputs": [],
   "source": [
    "# Do not change code in this cell\n",
    "X_train = df.drop(columns=[\"Job Description\"], inplace=False).to_numpy()\n",
    "y_train = labels.copy()\n",
    "data_dmatrix = xgb.DMatrix(data=X_train, label=y_train)\n",
    "\n",
    "params = {\"objective\":\"reg:squarederror\", \n",
    "          'learning_rate': 0.1, \n",
    "          'max_depth': 4, \n",
    "          'eval_metric': 'mae'}\n",
    "\n",
    "xgb_cv = cv(dtrain=data_dmatrix, params=params, nfold=5,\n",
    "                    num_boost_round=25, seed=2)\n",
    "\n",
    "\n",
    "print(f\"Final CV test MAE: {list(xgb_cv['test-mae-mean'])[-1]}\")\n",
    "\n",
    "pass"
   ]
  },
  {
   "cell_type": "markdown",
   "metadata": {},
   "source": [
    "## Assignment 3: Competition Approach\n",
    "https://www.kaggle.com/code/datark1/american-express-eda"
   ]
  }
 ],
 "metadata": {
  "kernelspec": {
   "display_name": "Python 3 (ipykernel)",
   "language": "python",
   "name": "python3"
  },
  "language_info": {
   "codemirror_mode": {
    "name": "ipython",
    "version": 3
   },
   "file_extension": ".py",
   "mimetype": "text/x-python",
   "name": "python",
   "nbconvert_exporter": "python",
   "pygments_lexer": "ipython3",
   "version": "3.10.4"
  }
 },
 "nbformat": 4,
 "nbformat_minor": 1
}
